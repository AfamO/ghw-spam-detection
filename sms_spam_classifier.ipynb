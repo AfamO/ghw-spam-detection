{
  "cells": [
    {
      "cell_type": "markdown",
      "metadata": {
        "id": "view-in-github",
        "colab_type": "text"
      },
      "source": [
        "<a href=\"https://colab.research.google.com/github/AfamO/ghw-spam-detection/blob/main/sms_spam_classifier.ipynb\" target=\"_parent\"><img src=\"https://colab.research.google.com/assets/colab-badge.svg\" alt=\"Open In Colab\"/></a>"
      ]
    },
    {
      "cell_type": "markdown",
      "id": "cc6afbfd",
      "metadata": {
        "id": "cc6afbfd"
      },
      "source": [
        "# SPAM DETECTION USING NAIVE BAYES AND SVM ALGORTHMS"
      ]
    },
    {
      "cell_type": "code",
      "execution_count": null,
      "id": "dce42c2c",
      "metadata": {
        "id": "dce42c2c"
      },
      "outputs": [],
      "source": [
        "import pandas as pd;\n",
        "import numpy as np;\n",
        "from sklearn.model_selection import train_test_split;\n",
        "from sklearn.feature_extraction.text import CountVectorizer;\n",
        "from sklearn.naive_bayes import MultinomialNB;\n",
        "from sklearn.svm import SVC;\n",
        "from sklearn.metrics import accuracy_score;\n"
      ]
    },
    {
      "cell_type": "markdown",
      "id": "4c823c7f",
      "metadata": {
        "id": "4c823c7f"
      },
      "source": [
        "#### Read data"
      ]
    },
    {
      "cell_type": "code",
      "execution_count": null,
      "id": "16413e54",
      "metadata": {
        "id": "16413e54",
        "outputId": "04ad6a16-10c6-472e-b97e-e597d6403330"
      },
      "outputs": [
        {
          "data": {
            "text/html": [
              "<div>\n",
              "<style scoped>\n",
              "    .dataframe tbody tr th:only-of-type {\n",
              "        vertical-align: middle;\n",
              "    }\n",
              "\n",
              "    .dataframe tbody tr th {\n",
              "        vertical-align: top;\n",
              "    }\n",
              "\n",
              "    .dataframe thead th {\n",
              "        text-align: right;\n",
              "    }\n",
              "</style>\n",
              "<table border=\"1\" class=\"dataframe\">\n",
              "  <thead>\n",
              "    <tr style=\"text-align: right;\">\n",
              "      <th></th>\n",
              "      <th>Category</th>\n",
              "      <th>Message</th>\n",
              "    </tr>\n",
              "  </thead>\n",
              "  <tbody>\n",
              "    <tr>\n",
              "      <th>0</th>\n",
              "      <td>ham</td>\n",
              "      <td>Go until jurong point, crazy.. Available only ...</td>\n",
              "    </tr>\n",
              "    <tr>\n",
              "      <th>1</th>\n",
              "      <td>ham</td>\n",
              "      <td>Ok lar... Joking wif u oni...</td>\n",
              "    </tr>\n",
              "    <tr>\n",
              "      <th>2</th>\n",
              "      <td>spam</td>\n",
              "      <td>Free entry in 2 a wkly comp to win FA Cup fina...</td>\n",
              "    </tr>\n",
              "    <tr>\n",
              "      <th>3</th>\n",
              "      <td>ham</td>\n",
              "      <td>U dun say so early hor... U c already then say...</td>\n",
              "    </tr>\n",
              "    <tr>\n",
              "      <th>4</th>\n",
              "      <td>ham</td>\n",
              "      <td>Nah I don't think he goes to usf, he lives aro...</td>\n",
              "    </tr>\n",
              "    <tr>\n",
              "      <th>...</th>\n",
              "      <td>...</td>\n",
              "      <td>...</td>\n",
              "    </tr>\n",
              "    <tr>\n",
              "      <th>5567</th>\n",
              "      <td>spam</td>\n",
              "      <td>This is the 2nd time we have tried 2 contact u...</td>\n",
              "    </tr>\n",
              "    <tr>\n",
              "      <th>5568</th>\n",
              "      <td>ham</td>\n",
              "      <td>Will ü b going to esplanade fr home?</td>\n",
              "    </tr>\n",
              "    <tr>\n",
              "      <th>5569</th>\n",
              "      <td>ham</td>\n",
              "      <td>Pity, * was in mood for that. So...any other s...</td>\n",
              "    </tr>\n",
              "    <tr>\n",
              "      <th>5570</th>\n",
              "      <td>ham</td>\n",
              "      <td>The guy did some bitching but I acted like i'd...</td>\n",
              "    </tr>\n",
              "    <tr>\n",
              "      <th>5571</th>\n",
              "      <td>ham</td>\n",
              "      <td>Rofl. Its true to its name</td>\n",
              "    </tr>\n",
              "  </tbody>\n",
              "</table>\n",
              "<p>5572 rows × 2 columns</p>\n",
              "</div>"
            ],
            "text/plain": [
              "     Category                                            Message\n",
              "0         ham  Go until jurong point, crazy.. Available only ...\n",
              "1         ham                      Ok lar... Joking wif u oni...\n",
              "2        spam  Free entry in 2 a wkly comp to win FA Cup fina...\n",
              "3         ham  U dun say so early hor... U c already then say...\n",
              "4         ham  Nah I don't think he goes to usf, he lives aro...\n",
              "...       ...                                                ...\n",
              "5567     spam  This is the 2nd time we have tried 2 contact u...\n",
              "5568      ham               Will ü b going to esplanade fr home?\n",
              "5569      ham  Pity, * was in mood for that. So...any other s...\n",
              "5570      ham  The guy did some bitching but I acted like i'd...\n",
              "5571      ham                         Rofl. Its true to its name\n",
              "\n",
              "[5572 rows x 2 columns]"
            ]
          },
          "execution_count": 4,
          "metadata": {},
          "output_type": "execute_result"
        }
      ],
      "source": [
        "data = pd.read_csv(\"SPAM text message 20170820 - Data.csv\");\n",
        "data"
      ]
    },
    {
      "cell_type": "markdown",
      "id": "f812a4d1",
      "metadata": {
        "id": "f812a4d1"
      },
      "source": [
        "#### check the shape and do basic EDA"
      ]
    },
    {
      "cell_type": "code",
      "execution_count": null,
      "id": "8fbe4b88",
      "metadata": {
        "id": "8fbe4b88",
        "outputId": "734315f0-8f3c-4511-cd8c-f0189d487dfa"
      },
      "outputs": [
        {
          "data": {
            "text/plain": [
              "(5572, 2)"
            ]
          },
          "execution_count": 17,
          "metadata": {},
          "output_type": "execute_result"
        }
      ],
      "source": [
        "data.shape"
      ]
    },
    {
      "cell_type": "code",
      "execution_count": null,
      "id": "29b9712b",
      "metadata": {
        "id": "29b9712b",
        "outputId": "079b0dbe-85ba-4854-dcdb-00df41244732"
      },
      "outputs": [
        {
          "data": {
            "text/plain": [
              "Index(['Category', 'Message'], dtype='object')"
            ]
          },
          "execution_count": 19,
          "metadata": {},
          "output_type": "execute_result"
        }
      ],
      "source": [
        "data.columns"
      ]
    },
    {
      "cell_type": "code",
      "execution_count": null,
      "id": "fe65ec79",
      "metadata": {
        "id": "fe65ec79",
        "outputId": "d34031ce-9a6f-440c-f2b5-ea634872b1bf"
      },
      "outputs": [
        {
          "data": {
            "text/plain": [
              "array(['ham', 'spam'], dtype=object)"
            ]
          },
          "execution_count": 18,
          "metadata": {},
          "output_type": "execute_result"
        }
      ],
      "source": [
        "data['Category'].unique()"
      ]
    },
    {
      "cell_type": "code",
      "execution_count": null,
      "id": "a9433bf5",
      "metadata": {
        "id": "a9433bf5",
        "outputId": "f7b1ab98-cb2d-47ae-86ef-9f371395153a"
      },
      "outputs": [
        {
          "data": {
            "text/plain": [
              "ham     4825\n",
              "spam     747\n",
              "Name: Category, dtype: int64"
            ]
          },
          "execution_count": 8,
          "metadata": {},
          "output_type": "execute_result"
        }
      ],
      "source": [
        "data['Category'].value_counts()"
      ]
    },
    {
      "cell_type": "markdown",
      "id": "19a64a14",
      "metadata": {
        "id": "19a64a14"
      },
      "source": [
        "#### Check the percentage"
      ]
    },
    {
      "cell_type": "code",
      "execution_count": null,
      "id": "118d7aba",
      "metadata": {
        "id": "118d7aba",
        "outputId": "fd6309cd-59f4-4db6-fabd-54b691aea09a"
      },
      "outputs": [
        {
          "data": {
            "text/plain": [
              "ham     86.593683\n",
              "spam    13.406317\n",
              "Name: Category, dtype: float64"
            ]
          },
          "execution_count": 16,
          "metadata": {},
          "output_type": "execute_result"
        }
      ],
      "source": [
        "(data['Category'].value_counts()/len(data))*100"
      ]
    },
    {
      "cell_type": "markdown",
      "id": "3cf4d836",
      "metadata": {
        "id": "3cf4d836"
      },
      "source": [
        "#### This is obviously an imbalanced dataset, tilting more towards `ham-not spam` than to `spam`. However, we will leave out Feature Engineering for now"
      ]
    },
    {
      "cell_type": "code",
      "execution_count": null,
      "id": "f0d88c87",
      "metadata": {
        "id": "f0d88c87",
        "outputId": "519d9bc5-aefe-4576-d75a-016f05fb6360"
      },
      "outputs": [
        {
          "data": {
            "text/plain": [
              "Category    0\n",
              "Message     0\n",
              "dtype: int64"
            ]
          },
          "execution_count": 20,
          "metadata": {},
          "output_type": "execute_result"
        }
      ],
      "source": [
        "data.isna().sum()"
      ]
    },
    {
      "cell_type": "markdown",
      "id": "16e6d414",
      "metadata": {
        "id": "16e6d414"
      },
      "source": [
        "#### So, there are no cases of missing values."
      ]
    },
    {
      "cell_type": "markdown",
      "id": "6d6334e8",
      "metadata": {
        "id": "6d6334e8"
      },
      "source": [
        "#### Let's do further and more  extensive exploration of the dataset"
      ]
    },
    {
      "cell_type": "code",
      "execution_count": null,
      "id": "882ba233",
      "metadata": {
        "id": "882ba233",
        "outputId": "0ed594ae-6f08-4323-b58c-5d022a84ea08"
      },
      "outputs": [
        {
          "data": {
            "text/html": [
              "<div>\n",
              "<style scoped>\n",
              "    .dataframe tbody tr th:only-of-type {\n",
              "        vertical-align: middle;\n",
              "    }\n",
              "\n",
              "    .dataframe tbody tr th {\n",
              "        vertical-align: top;\n",
              "    }\n",
              "\n",
              "    .dataframe thead th {\n",
              "        text-align: right;\n",
              "    }\n",
              "</style>\n",
              "<table border=\"1\" class=\"dataframe\">\n",
              "  <thead>\n",
              "    <tr style=\"text-align: right;\">\n",
              "      <th></th>\n",
              "      <th>Category</th>\n",
              "      <th>Message</th>\n",
              "    </tr>\n",
              "  </thead>\n",
              "  <tbody>\n",
              "    <tr>\n",
              "      <th>count</th>\n",
              "      <td>5572</td>\n",
              "      <td>5572</td>\n",
              "    </tr>\n",
              "    <tr>\n",
              "      <th>unique</th>\n",
              "      <td>2</td>\n",
              "      <td>5157</td>\n",
              "    </tr>\n",
              "    <tr>\n",
              "      <th>top</th>\n",
              "      <td>ham</td>\n",
              "      <td>Sorry, I'll call later</td>\n",
              "    </tr>\n",
              "    <tr>\n",
              "      <th>freq</th>\n",
              "      <td>4825</td>\n",
              "      <td>30</td>\n",
              "    </tr>\n",
              "  </tbody>\n",
              "</table>\n",
              "</div>"
            ],
            "text/plain": [
              "       Category                 Message\n",
              "count      5572                    5572\n",
              "unique        2                    5157\n",
              "top         ham  Sorry, I'll call later\n",
              "freq       4825                      30"
            ]
          },
          "execution_count": 21,
          "metadata": {},
          "output_type": "execute_result"
        }
      ],
      "source": [
        "data.describe()"
      ]
    },
    {
      "cell_type": "code",
      "execution_count": null,
      "id": "122b5886",
      "metadata": {
        "id": "122b5886"
      },
      "outputs": [],
      "source": [
        "top_freq_message=data[data['Message']==\"Sorry, I'll call later\"]"
      ]
    },
    {
      "cell_type": "code",
      "execution_count": null,
      "id": "df74b454",
      "metadata": {
        "id": "df74b454",
        "outputId": "9318aa1a-c628-40e4-ed93-7ad7b782dbcf"
      },
      "outputs": [
        {
          "data": {
            "text/html": [
              "<div>\n",
              "<style scoped>\n",
              "    .dataframe tbody tr th:only-of-type {\n",
              "        vertical-align: middle;\n",
              "    }\n",
              "\n",
              "    .dataframe tbody tr th {\n",
              "        vertical-align: top;\n",
              "    }\n",
              "\n",
              "    .dataframe thead th {\n",
              "        text-align: right;\n",
              "    }\n",
              "</style>\n",
              "<table border=\"1\" class=\"dataframe\">\n",
              "  <thead>\n",
              "    <tr style=\"text-align: right;\">\n",
              "      <th></th>\n",
              "      <th>Category</th>\n",
              "      <th>Message</th>\n",
              "    </tr>\n",
              "  </thead>\n",
              "  <tbody>\n",
              "    <tr>\n",
              "      <th>80</th>\n",
              "      <td>ham</td>\n",
              "      <td>Sorry, I'll call later</td>\n",
              "    </tr>\n",
              "    <tr>\n",
              "      <th>223</th>\n",
              "      <td>ham</td>\n",
              "      <td>Sorry, I'll call later</td>\n",
              "    </tr>\n",
              "    <tr>\n",
              "      <th>339</th>\n",
              "      <td>ham</td>\n",
              "      <td>Sorry, I'll call later</td>\n",
              "    </tr>\n",
              "    <tr>\n",
              "      <th>444</th>\n",
              "      <td>ham</td>\n",
              "      <td>Sorry, I'll call later</td>\n",
              "    </tr>\n",
              "    <tr>\n",
              "      <th>702</th>\n",
              "      <td>ham</td>\n",
              "      <td>Sorry, I'll call later</td>\n",
              "    </tr>\n",
              "    <tr>\n",
              "      <th>768</th>\n",
              "      <td>ham</td>\n",
              "      <td>Sorry, I'll call later</td>\n",
              "    </tr>\n",
              "    <tr>\n",
              "      <th>1132</th>\n",
              "      <td>ham</td>\n",
              "      <td>Sorry, I'll call later</td>\n",
              "    </tr>\n",
              "    <tr>\n",
              "      <th>1152</th>\n",
              "      <td>ham</td>\n",
              "      <td>Sorry, I'll call later</td>\n",
              "    </tr>\n",
              "    <tr>\n",
              "      <th>1485</th>\n",
              "      <td>ham</td>\n",
              "      <td>Sorry, I'll call later</td>\n",
              "    </tr>\n",
              "    <tr>\n",
              "      <th>1585</th>\n",
              "      <td>ham</td>\n",
              "      <td>Sorry, I'll call later</td>\n",
              "    </tr>\n",
              "    <tr>\n",
              "      <th>1902</th>\n",
              "      <td>ham</td>\n",
              "      <td>Sorry, I'll call later</td>\n",
              "    </tr>\n",
              "    <tr>\n",
              "      <th>1981</th>\n",
              "      <td>ham</td>\n",
              "      <td>Sorry, I'll call later</td>\n",
              "    </tr>\n",
              "    <tr>\n",
              "      <th>1989</th>\n",
              "      <td>ham</td>\n",
              "      <td>Sorry, I'll call later</td>\n",
              "    </tr>\n",
              "    <tr>\n",
              "      <th>2385</th>\n",
              "      <td>ham</td>\n",
              "      <td>Sorry, I'll call later</td>\n",
              "    </tr>\n",
              "    <tr>\n",
              "      <th>2447</th>\n",
              "      <td>ham</td>\n",
              "      <td>Sorry, I'll call later</td>\n",
              "    </tr>\n",
              "    <tr>\n",
              "      <th>2518</th>\n",
              "      <td>ham</td>\n",
              "      <td>Sorry, I'll call later</td>\n",
              "    </tr>\n",
              "    <tr>\n",
              "      <th>2522</th>\n",
              "      <td>ham</td>\n",
              "      <td>Sorry, I'll call later</td>\n",
              "    </tr>\n",
              "    <tr>\n",
              "      <th>2524</th>\n",
              "      <td>ham</td>\n",
              "      <td>Sorry, I'll call later</td>\n",
              "    </tr>\n",
              "    <tr>\n",
              "      <th>2646</th>\n",
              "      <td>ham</td>\n",
              "      <td>Sorry, I'll call later</td>\n",
              "    </tr>\n",
              "    <tr>\n",
              "      <th>3349</th>\n",
              "      <td>ham</td>\n",
              "      <td>Sorry, I'll call later</td>\n",
              "    </tr>\n",
              "    <tr>\n",
              "      <th>3366</th>\n",
              "      <td>ham</td>\n",
              "      <td>Sorry, I'll call later</td>\n",
              "    </tr>\n",
              "    <tr>\n",
              "      <th>3534</th>\n",
              "      <td>ham</td>\n",
              "      <td>Sorry, I'll call later</td>\n",
              "    </tr>\n",
              "    <tr>\n",
              "      <th>3594</th>\n",
              "      <td>ham</td>\n",
              "      <td>Sorry, I'll call later</td>\n",
              "    </tr>\n",
              "    <tr>\n",
              "      <th>4128</th>\n",
              "      <td>ham</td>\n",
              "      <td>Sorry, I'll call later</td>\n",
              "    </tr>\n",
              "    <tr>\n",
              "      <th>4173</th>\n",
              "      <td>ham</td>\n",
              "      <td>Sorry, I'll call later</td>\n",
              "    </tr>\n",
              "    <tr>\n",
              "      <th>4191</th>\n",
              "      <td>ham</td>\n",
              "      <td>Sorry, I'll call later</td>\n",
              "    </tr>\n",
              "    <tr>\n",
              "      <th>5191</th>\n",
              "      <td>ham</td>\n",
              "      <td>Sorry, I'll call later</td>\n",
              "    </tr>\n",
              "    <tr>\n",
              "      <th>5423</th>\n",
              "      <td>ham</td>\n",
              "      <td>Sorry, I'll call later</td>\n",
              "    </tr>\n",
              "    <tr>\n",
              "      <th>5458</th>\n",
              "      <td>ham</td>\n",
              "      <td>Sorry, I'll call later</td>\n",
              "    </tr>\n",
              "    <tr>\n",
              "      <th>5558</th>\n",
              "      <td>ham</td>\n",
              "      <td>Sorry, I'll call later</td>\n",
              "    </tr>\n",
              "  </tbody>\n",
              "</table>\n",
              "</div>"
            ],
            "text/plain": [
              "     Category                 Message\n",
              "80        ham  Sorry, I'll call later\n",
              "223       ham  Sorry, I'll call later\n",
              "339       ham  Sorry, I'll call later\n",
              "444       ham  Sorry, I'll call later\n",
              "702       ham  Sorry, I'll call later\n",
              "768       ham  Sorry, I'll call later\n",
              "1132      ham  Sorry, I'll call later\n",
              "1152      ham  Sorry, I'll call later\n",
              "1485      ham  Sorry, I'll call later\n",
              "1585      ham  Sorry, I'll call later\n",
              "1902      ham  Sorry, I'll call later\n",
              "1981      ham  Sorry, I'll call later\n",
              "1989      ham  Sorry, I'll call later\n",
              "2385      ham  Sorry, I'll call later\n",
              "2447      ham  Sorry, I'll call later\n",
              "2518      ham  Sorry, I'll call later\n",
              "2522      ham  Sorry, I'll call later\n",
              "2524      ham  Sorry, I'll call later\n",
              "2646      ham  Sorry, I'll call later\n",
              "3349      ham  Sorry, I'll call later\n",
              "3366      ham  Sorry, I'll call later\n",
              "3534      ham  Sorry, I'll call later\n",
              "3594      ham  Sorry, I'll call later\n",
              "4128      ham  Sorry, I'll call later\n",
              "4173      ham  Sorry, I'll call later\n",
              "4191      ham  Sorry, I'll call later\n",
              "5191      ham  Sorry, I'll call later\n",
              "5423      ham  Sorry, I'll call later\n",
              "5458      ham  Sorry, I'll call later\n",
              "5558      ham  Sorry, I'll call later"
            ]
          },
          "execution_count": 28,
          "metadata": {},
          "output_type": "execute_result"
        }
      ],
      "source": [
        "top_freq_message"
      ]
    },
    {
      "cell_type": "code",
      "execution_count": null,
      "id": "eea2688d",
      "metadata": {
        "id": "eea2688d",
        "outputId": "4b143c0f-607d-4da8-eec6-00fa93cbdb06"
      },
      "outputs": [
        {
          "data": {
            "text/plain": [
              "(30, 2)"
            ]
          },
          "execution_count": 29,
          "metadata": {},
          "output_type": "execute_result"
        }
      ],
      "source": [
        "top_freq_message.shape"
      ]
    },
    {
      "cell_type": "markdown",
      "id": "e314c2e8",
      "metadata": {
        "id": "e314c2e8"
      },
      "source": [
        "#### split the dataset into training and test sets"
      ]
    },
    {
      "cell_type": "code",
      "execution_count": null,
      "id": "45efd139",
      "metadata": {
        "id": "45efd139",
        "outputId": "f4472aaf-b0ef-40e1-96c5-0bbb577b1dc3"
      },
      "outputs": [
        {
          "data": {
            "text/html": [
              "<div>\n",
              "<style scoped>\n",
              "    .dataframe tbody tr th:only-of-type {\n",
              "        vertical-align: middle;\n",
              "    }\n",
              "\n",
              "    .dataframe tbody tr th {\n",
              "        vertical-align: top;\n",
              "    }\n",
              "\n",
              "    .dataframe thead th {\n",
              "        text-align: right;\n",
              "    }\n",
              "</style>\n",
              "<table border=\"1\" class=\"dataframe\">\n",
              "  <thead>\n",
              "    <tr style=\"text-align: right;\">\n",
              "      <th></th>\n",
              "      <th>Category</th>\n",
              "      <th>Message</th>\n",
              "    </tr>\n",
              "  </thead>\n",
              "  <tbody>\n",
              "    <tr>\n",
              "      <th>568</th>\n",
              "      <td>ham</td>\n",
              "      <td>So anyways, you can just go to your gym or wha...</td>\n",
              "    </tr>\n",
              "    <tr>\n",
              "      <th>2793</th>\n",
              "      <td>ham</td>\n",
              "      <td>Well there's still a bit left if you guys want...</td>\n",
              "    </tr>\n",
              "    <tr>\n",
              "      <th>224</th>\n",
              "      <td>ham</td>\n",
              "      <td>U say leh... Of course nothing happen lar. Not...</td>\n",
              "    </tr>\n",
              "    <tr>\n",
              "      <th>4818</th>\n",
              "      <td>ham</td>\n",
              "      <td>Me too. Mark is taking forever to pick up my p...</td>\n",
              "    </tr>\n",
              "    <tr>\n",
              "      <th>4389</th>\n",
              "      <td>ham</td>\n",
              "      <td>see you then, we're all christmassy here!</td>\n",
              "    </tr>\n",
              "    <tr>\n",
              "      <th>...</th>\n",
              "      <td>...</td>\n",
              "      <td>...</td>\n",
              "    </tr>\n",
              "    <tr>\n",
              "      <th>3901</th>\n",
              "      <td>ham</td>\n",
              "      <td>Okie</td>\n",
              "    </tr>\n",
              "    <tr>\n",
              "      <th>4732</th>\n",
              "      <td>ham</td>\n",
              "      <td>K:)eng rocking in ashes:)</td>\n",
              "    </tr>\n",
              "    <tr>\n",
              "      <th>1166</th>\n",
              "      <td>ham</td>\n",
              "      <td>Haha yeah I see that now, be there in a sec</td>\n",
              "    </tr>\n",
              "    <tr>\n",
              "      <th>350</th>\n",
              "      <td>ham</td>\n",
              "      <td>Just checking in on you. Really do miss seeing...</td>\n",
              "    </tr>\n",
              "    <tr>\n",
              "      <th>521</th>\n",
              "      <td>ham</td>\n",
              "      <td>But that's on ebay it might be less elsewhere.</td>\n",
              "    </tr>\n",
              "  </tbody>\n",
              "</table>\n",
              "<p>4457 rows × 2 columns</p>\n",
              "</div>"
            ],
            "text/plain": [
              "     Category                                            Message\n",
              "568       ham  So anyways, you can just go to your gym or wha...\n",
              "2793      ham  Well there's still a bit left if you guys want...\n",
              "224       ham  U say leh... Of course nothing happen lar. Not...\n",
              "4818      ham  Me too. Mark is taking forever to pick up my p...\n",
              "4389      ham          see you then, we're all christmassy here!\n",
              "...       ...                                                ...\n",
              "3901      ham                                               Okie\n",
              "4732      ham                          K:)eng rocking in ashes:)\n",
              "1166      ham        Haha yeah I see that now, be there in a sec\n",
              "350       ham  Just checking in on you. Really do miss seeing...\n",
              "521       ham     But that's on ebay it might be less elsewhere.\n",
              "\n",
              "[4457 rows x 2 columns]"
            ]
          },
          "execution_count": 32,
          "metadata": {},
          "output_type": "execute_result"
        }
      ],
      "source": [
        "x_train, x_test = train_test_split(data, test_size=0.2)\n",
        "x_train"
      ]
    },
    {
      "cell_type": "code",
      "execution_count": null,
      "id": "ae52eeb6",
      "metadata": {
        "id": "ae52eeb6",
        "outputId": "d7f4fcdb-ba50-4616-df7d-408751e5d1a2"
      },
      "outputs": [
        {
          "data": {
            "text/html": [
              "<div>\n",
              "<style scoped>\n",
              "    .dataframe tbody tr th:only-of-type {\n",
              "        vertical-align: middle;\n",
              "    }\n",
              "\n",
              "    .dataframe tbody tr th {\n",
              "        vertical-align: top;\n",
              "    }\n",
              "\n",
              "    .dataframe thead th {\n",
              "        text-align: right;\n",
              "    }\n",
              "</style>\n",
              "<table border=\"1\" class=\"dataframe\">\n",
              "  <thead>\n",
              "    <tr style=\"text-align: right;\">\n",
              "      <th></th>\n",
              "      <th>Category</th>\n",
              "      <th>Message</th>\n",
              "    </tr>\n",
              "  </thead>\n",
              "  <tbody>\n",
              "    <tr>\n",
              "      <th>1729</th>\n",
              "      <td>ham</td>\n",
              "      <td>As per your request 'Maangalyam (Alaipayuthe)'...</td>\n",
              "    </tr>\n",
              "    <tr>\n",
              "      <th>1280</th>\n",
              "      <td>ham</td>\n",
              "      <td>Waiting 4 my tv show 2 start lor... U leh stil...</td>\n",
              "    </tr>\n",
              "    <tr>\n",
              "      <th>1156</th>\n",
              "      <td>ham</td>\n",
              "      <td>Sorry man, accidentally left my phone on silen...</td>\n",
              "    </tr>\n",
              "    <tr>\n",
              "      <th>2143</th>\n",
              "      <td>ham</td>\n",
              "      <td>You see the requirements please</td>\n",
              "    </tr>\n",
              "    <tr>\n",
              "      <th>769</th>\n",
              "      <td>ham</td>\n",
              "      <td>I cant pick the phone right now. Pls send a me...</td>\n",
              "    </tr>\n",
              "    <tr>\n",
              "      <th>...</th>\n",
              "      <td>...</td>\n",
              "      <td>...</td>\n",
              "    </tr>\n",
              "    <tr>\n",
              "      <th>3214</th>\n",
              "      <td>ham</td>\n",
              "      <td>What's ur pin?</td>\n",
              "    </tr>\n",
              "    <tr>\n",
              "      <th>5294</th>\n",
              "      <td>spam</td>\n",
              "      <td>XMAS iscoming &amp; ur awarded either £500 CD gift...</td>\n",
              "    </tr>\n",
              "    <tr>\n",
              "      <th>1759</th>\n",
              "      <td>ham</td>\n",
              "      <td>Sorry i'm not free...</td>\n",
              "    </tr>\n",
              "    <tr>\n",
              "      <th>693</th>\n",
              "      <td>ham</td>\n",
              "      <td>My sister in law, hope you are having a great ...</td>\n",
              "    </tr>\n",
              "    <tr>\n",
              "      <th>3466</th>\n",
              "      <td>ham</td>\n",
              "      <td>Haha figures, well I found the piece and prisc...</td>\n",
              "    </tr>\n",
              "  </tbody>\n",
              "</table>\n",
              "<p>1115 rows × 2 columns</p>\n",
              "</div>"
            ],
            "text/plain": [
              "     Category                                            Message\n",
              "1729      ham  As per your request 'Maangalyam (Alaipayuthe)'...\n",
              "1280      ham  Waiting 4 my tv show 2 start lor... U leh stil...\n",
              "1156      ham  Sorry man, accidentally left my phone on silen...\n",
              "2143      ham                    You see the requirements please\n",
              "769       ham  I cant pick the phone right now. Pls send a me...\n",
              "...       ...                                                ...\n",
              "3214      ham                                     What's ur pin?\n",
              "5294     spam  XMAS iscoming & ur awarded either £500 CD gift...\n",
              "1759      ham                              Sorry i'm not free...\n",
              "693       ham  My sister in law, hope you are having a great ...\n",
              "3466      ham  Haha figures, well I found the piece and prisc...\n",
              "\n",
              "[1115 rows x 2 columns]"
            ]
          },
          "execution_count": 33,
          "metadata": {},
          "output_type": "execute_result"
        }
      ],
      "source": [
        "x_test"
      ]
    },
    {
      "cell_type": "code",
      "execution_count": null,
      "id": "e9ceb43f",
      "metadata": {
        "id": "e9ceb43f",
        "outputId": "7bd631b0-9184-49a8-f7a8-b0ee527dc228"
      },
      "outputs": [
        {
          "data": {
            "text/plain": [
              "(1115,)"
            ]
          },
          "execution_count": 64,
          "metadata": {},
          "output_type": "execute_result"
        }
      ],
      "source": [
        "x_test['Category'].shape"
      ]
    },
    {
      "cell_type": "markdown",
      "id": "fa3190cc",
      "metadata": {
        "id": "fa3190cc"
      },
      "source": [
        "#### Now, let's do some Data Transformation"
      ]
    },
    {
      "cell_type": "markdown",
      "id": "53ed746e",
      "metadata": {
        "id": "53ed746e"
      },
      "source": [
        "#### Conver texts into numbers"
      ]
    },
    {
      "cell_type": "code",
      "execution_count": null,
      "id": "9bf803c5",
      "metadata": {
        "id": "9bf803c5",
        "outputId": "eb95b64a-3c56-4729-88a8-62aad233ff43"
      },
      "outputs": [
        {
          "data": {
            "text/plain": [
              "CountVectorizer(stop_words='english')"
            ]
          },
          "execution_count": 40,
          "metadata": {},
          "output_type": "execute_result"
        }
      ],
      "source": [
        "vectorizer= CountVectorizer(stop_words=\"english\");\n",
        "vectorizer"
      ]
    },
    {
      "cell_type": "code",
      "execution_count": null,
      "id": "f94ebde1",
      "metadata": {
        "id": "f94ebde1",
        "outputId": "f0b1f922-4773-4bf7-9a13-b88a77a9d8ab"
      },
      "outputs": [
        {
          "data": {
            "text/plain": [
              "<4457x7473 sparse matrix of type '<class 'numpy.int64'>'\n",
              "\twith 34605 stored elements in Compressed Sparse Row format>"
            ]
          },
          "execution_count": 91,
          "metadata": {},
          "output_type": "execute_result"
        }
      ],
      "source": [
        "train_features = vectorizer.fit_transform(x_train['Message'])\n",
        "train_features"
      ]
    },
    {
      "cell_type": "code",
      "execution_count": null,
      "id": "b9deb047",
      "metadata": {
        "id": "b9deb047",
        "outputId": "aaa8a898-69d3-4bb8-f3b2-7749003d191b"
      },
      "outputs": [
        {
          "data": {
            "text/plain": [
              "<1115x7473 sparse matrix of type '<class 'numpy.int64'>'\n",
              "\twith 7886 stored elements in Compressed Sparse Row format>"
            ]
          },
          "execution_count": 92,
          "metadata": {},
          "output_type": "execute_result"
        }
      ],
      "source": [
        "test_features = vectorizer.transform(x_test['Message'])\n",
        "test_features"
      ]
    },
    {
      "cell_type": "code",
      "execution_count": null,
      "id": "283ba0b9",
      "metadata": {
        "id": "283ba0b9"
      },
      "outputs": [],
      "source": [
        "test_features?"
      ]
    },
    {
      "cell_type": "markdown",
      "id": "e488a828",
      "metadata": {
        "id": "e488a828"
      },
      "source": [
        "#### Let's classify using Naives Bayes"
      ]
    },
    {
      "cell_type": "code",
      "execution_count": null,
      "id": "c6918c1e",
      "metadata": {
        "id": "c6918c1e",
        "outputId": "d3f806cc-f196-4b7a-8bb1-8ef6a0273561"
      },
      "outputs": [
        {
          "data": {
            "text/plain": [
              "MultinomialNB()"
            ]
          },
          "execution_count": 75,
          "metadata": {},
          "output_type": "execute_result"
        }
      ],
      "source": [
        "nb_classifier = MultinomialNB();\n",
        "nb_classifier.fit(train_features,x_train['Category'])\n",
        "nb_classifier"
      ]
    },
    {
      "cell_type": "markdown",
      "id": "e7cadee1",
      "metadata": {
        "id": "e7cadee1"
      },
      "source": [
        "#### Let's predict"
      ]
    },
    {
      "cell_type": "code",
      "execution_count": null,
      "id": "7492ffd7",
      "metadata": {
        "id": "7492ffd7",
        "outputId": "c18a97a6-0ae8-47fb-b5a9-da98e7311a30"
      },
      "outputs": [
        {
          "data": {
            "text/plain": [
              "array(['ham', 'ham', 'ham', ..., 'ham', 'ham', 'ham'], dtype='<U4')"
            ]
          },
          "execution_count": 93,
          "metadata": {},
          "output_type": "execute_result"
        }
      ],
      "source": [
        "nb_predictions = nb_classifier.predict(test_features);\n",
        "nb_predictions"
      ]
    },
    {
      "cell_type": "markdown",
      "id": "a4a5dad7",
      "metadata": {
        "id": "a4a5dad7"
      },
      "source": [
        "#### Next classify using SVM"
      ]
    },
    {
      "cell_type": "code",
      "execution_count": null,
      "id": "560f9944",
      "metadata": {
        "id": "560f9944",
        "outputId": "e21cf7cc-a043-4008-e4ea-184a40eb832d"
      },
      "outputs": [
        {
          "data": {
            "text/plain": [
              "SVC(kernel='linear')"
            ]
          },
          "execution_count": 94,
          "metadata": {},
          "output_type": "execute_result"
        }
      ],
      "source": [
        "svm_classifier = SVC(kernel=\"linear\");\n",
        "svm_classifier.fit(train_features, x_train['Category']);\n",
        "svm_classifier"
      ]
    },
    {
      "cell_type": "markdown",
      "id": "9ac7205c",
      "metadata": {
        "id": "9ac7205c"
      },
      "source": [
        "#### let's predict as well"
      ]
    },
    {
      "cell_type": "code",
      "execution_count": null,
      "id": "0a9ce3d8",
      "metadata": {
        "id": "0a9ce3d8",
        "outputId": "c38c5ef3-95fa-4f3b-e577-96b8ec43646a"
      },
      "outputs": [
        {
          "data": {
            "text/plain": [
              "array(['ham', 'ham', 'ham', ..., 'ham', 'ham', 'ham'], dtype=object)"
            ]
          },
          "execution_count": 95,
          "metadata": {},
          "output_type": "execute_result"
        }
      ],
      "source": [
        "svm_predictions = svm_classifier.predict(test_features)\n",
        "svm_predictions"
      ]
    },
    {
      "cell_type": "markdown",
      "id": "8b14bd95",
      "metadata": {
        "id": "8b14bd95"
      },
      "source": [
        "### Now let's do evaluations"
      ]
    },
    {
      "cell_type": "code",
      "execution_count": null,
      "id": "824be71e",
      "metadata": {
        "id": "824be71e",
        "outputId": "a6e229c9-5971-497f-b7e2-b960db0b92bf"
      },
      "outputs": [
        {
          "name": "stdout",
          "output_type": "stream",
          "text": [
            "SVM Test Accuracy== 0.9829596412556054\n",
            "Naive Bayes Accuracy== 0.9847533632286996\n"
          ]
        }
      ],
      "source": [
        "print(\"SVM Test Accuracy==\",accuracy_score(x_test['Category'], svm_predictions));\n",
        "print(\"Naive Bayes Accuracy==\",accuracy_score(x_test['Category'], nb_predictions))"
      ]
    },
    {
      "cell_type": "code",
      "execution_count": null,
      "id": "93b33291",
      "metadata": {
        "id": "93b33291",
        "outputId": "52eadc4a-92e4-48ca-e358-a55911e67eff"
      },
      "outputs": [
        {
          "data": {
            "text/plain": [
              "(1115,)"
            ]
          },
          "execution_count": 97,
          "metadata": {},
          "output_type": "execute_result"
        }
      ],
      "source": [
        "svm_predictions.shape"
      ]
    },
    {
      "cell_type": "markdown",
      "id": "1aa41d59",
      "metadata": {
        "id": "1aa41d59"
      },
      "source": [
        "#### Let's view the confusion matrix"
      ]
    },
    {
      "cell_type": "code",
      "execution_count": null,
      "id": "abbf4e6a",
      "metadata": {
        "id": "abbf4e6a",
        "outputId": "31a18146-df79-446d-e688-8d3360a94f52"
      },
      "outputs": [
        {
          "data": {
            "image/png": "[encoded data removed]",
            "text/plain": [
              "<Figure size 720x504 with 2 Axes>"
            ]
          },
          "metadata": {
            "needs_background": "light"
          },
          "output_type": "display_data"
        }
      ],
      "source": [
        "import matplotlib.pyplot as plt\n",
        "import seaborn as sns\n",
        "from sklearn.metrics import confusion_matrix\n",
        "\n",
        "# Get the confusion matrix\n",
        "cm = confusion_matrix(x_test['Category'], svm_predictions)\n",
        "\n",
        "# Visualize the confusion matrix\n",
        "plt.figure(figsize=(10, 7))\n",
        "\n",
        "sns.heatmap(cm, annot=True, fmt=\"d\", cmap=\"Blues\",\n",
        "            xticklabels=['Not Spam', 'Spam'],\n",
        "            yticklabels=['Not Spam', 'Spam'])\n",
        "\n",
        "plt.xlabel('Predicted Labels')\n",
        "plt.ylabel('True Labels')\n",
        "plt.title('Confusion Matrix for SVM Predictions')\n",
        "plt.show()\n"
      ]
    },
    {
      "cell_type": "code",
      "execution_count": null,
      "id": "b9dcf9d0",
      "metadata": {
        "id": "b9dcf9d0",
        "outputId": "622c9457-af66-430e-afb5-bd6996a3d2f8"
      },
      "outputs": [
        {
          "data": {
            "image/png": "[encoded data removed]",
            "text/plain": [
              "<Figure size 432x288 with 1 Axes>"
            ]
          },
          "metadata": {
            "needs_background": "light"
          },
          "output_type": "display_data"
        }
      ],
      "source": [
        "import numpy as np\n",
        "import matplotlib.pyplot as plt\n",
        "from sklearn import datasets\n",
        "from sklearn.svm import SVC\n",
        "\n",
        "# Generate a 2D dataset\n",
        "X, y = datasets.make_blobs(n_samples=50, n_features=2, centers=2, cluster_std=1.05, random_state=40)\n",
        "\n",
        "# Train the SVM\n",
        "clf = SVC(kernel=\"linear\", C=1000)\n",
        "clf.fit(X, y)\n",
        "\n",
        "# Plotting the data points\n",
        "plt.scatter(X[:, 0], X[:, 1], c=y, s=30, cmap=plt.cm.Paired)\n",
        "\n",
        "# Plot the decision boundary\n",
        "ax = plt.gca()\n",
        "xlim = ax.get_xlim()\n",
        "ylim = ax.get_ylim()\n",
        "\n",
        "# Create a grid to evaluate model\n",
        "xx = np.linspace(xlim[0], xlim[1], 30)\n",
        "yy = np.linspace(ylim[0], ylim[1], 30)\n",
        "YY, XX = np.meshgrid(yy, xx)\n",
        "xy = np.vstack([XX.ravel(), YY.ravel()]).T\n",
        "Z = clf.decision_function(xy).reshape(XX.shape)\n",
        "\n",
        "# Plot decision boundary and margins\n",
        "ax.contour(XX, YY, Z, colors='k', levels=[-1, 0, 1], alpha=0.5,\n",
        "           linestyles=['--', '-', '--'])\n",
        "\n",
        "# Plot the support vectors (important data points that define the hyperplane)\n",
        "ax.scatter(clf.support_vectors_[:, 0], clf.support_vectors_[:, 1], s=100,\n",
        "           linewidth=1, facecolors='none', edgecolors='k')\n",
        "plt.title(\"SVM Hyperplane and Support Vectors\")\n",
        "plt.show()\n"
      ]
    },
    {
      "cell_type": "code",
      "execution_count": null,
      "id": "5ac8d339",
      "metadata": {
        "id": "5ac8d339"
      },
      "outputs": [],
      "source": []
    }
  ],
  "metadata": {
    "kernelspec": {
      "display_name": "Python 3 (ipykernel)",
      "language": "python",
      "name": "python3"
    },
    "language_info": {
      "codemirror_mode": {
        "name": "ipython",
        "version": 3
      },
      "file_extension": ".py",
      "mimetype": "text/x-python",
      "name": "python",
      "nbconvert_exporter": "python",
      "pygments_lexer": "ipython3",
      "version": "3.9.12"
    },
    "colab": {
      "provenance": [],
      "include_colab_link": true
    }
  },
  "nbformat": 4,
  "nbformat_minor": 5
}